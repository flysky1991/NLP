{
 "cells": [
  {
   "cell_type": "code",
   "execution_count": 32,
   "metadata": {},
   "outputs": [
    {
     "name": "stdout",
     "output_type": "stream",
     "text": [
      "1.13.1\n"
     ]
    }
   ],
   "source": [
    "import tensorflow as tf\n",
    "from tensorflow import keras\n",
    "\n",
    "import numpy as np\n",
    "\n",
    "print(tf.__version__)"
   ]
  },
  {
   "cell_type": "code",
   "execution_count": null,
   "metadata": {},
   "outputs": [],
   "source": [
    "#1.数据探索\n",
    "imdb = keras.datasets.imdb\n",
    "#加载出现频次前20000的字词(numpy版本需为1.16.2)\n",
    "(train_data, train_labels), (test_data, test_labels) = imdb.load_data(num_words=20000)\n"
   ]
  },
  {
   "cell_type": "code",
   "execution_count": 34,
   "metadata": {},
   "outputs": [
    {
     "name": "stdout",
     "output_type": "stream",
     "text": [
      "Training num: 25000, labels: 25000\n",
      "[1, 14, 22, 16, 43, 530, 973, 1622, 1385, 65, 458, 4468, 66, 3941, 4, 173, 36, 256, 5, 25, 100, 43, 838, 112, 50, 670, 2, 9, 35, 480, 284, 5, 150, 4, 172, 112, 167, 2, 336, 385, 39, 4, 172, 4536, 1111, 17, 546, 38, 13, 447, 4, 192, 50, 16, 6, 147, 2025, 19, 14, 22, 4, 1920, 4613, 469, 4, 22, 71, 87, 12, 16, 43, 530, 38, 76, 15, 13, 1247, 4, 22, 17, 515, 17, 12, 16, 626, 18, 19193, 5, 62, 386, 12, 8, 316, 8, 106, 5, 4, 2223, 5244, 16, 480, 66, 3785, 33, 4, 130, 12, 16, 38, 619, 5, 25, 124, 51, 36, 135, 48, 25, 1415, 33, 6, 22, 12, 215, 28, 77, 52, 5, 14, 407, 16, 82, 10311, 8, 4, 107, 117, 5952, 15, 256, 4, 2, 7, 3766, 5, 723, 36, 71, 43, 530, 476, 26, 400, 317, 46, 7, 4, 12118, 1029, 13, 104, 88, 4, 381, 15, 297, 98, 32, 2071, 56, 26, 141, 6, 194, 7486, 18, 4, 226, 22, 21, 134, 476, 26, 480, 5, 144, 30, 5535, 18, 51, 36, 28, 224, 92, 25, 104, 4, 226, 65, 16, 38, 1334, 88, 12, 16, 283, 5, 16, 4472, 113, 103, 32, 15, 16, 5345, 19, 178, 32]\n",
      "218 189\n"
     ]
    }
   ],
   "source": [
    "#输出训练集数目\n",
    "print(\"Training num: {}, labels: {}\".format(len(train_data), len(train_labels)))\n",
    "#查看前两条评论数据\n",
    "print(train_data[0])    #每个字词经过one-hot编码，转换成一个整型数字\n",
    "print(len(train_data[0]), len(train_data[1]))"
   ]
  },
  {
   "cell_type": "code",
   "execution_count": 35,
   "metadata": {},
   "outputs": [
    {
     "name": "stdout",
     "output_type": "stream",
     "text": [
      "<START> this film was just brilliant casting location scenery story direction everyone's really suited the part they played and you could just imagine being there robert <UNK> is an amazing actor and now the same being director <UNK> father came from the same scottish island as myself so i loved the fact there was a real connection with this film the witty remarks throughout the film were great it was just brilliant so much that i bought the film as soon as it was released for retail and would recommend it to everyone to watch and the fly fishing was amazing really cried at the end it was so sad and you know what they say if you cry at a film it must have been good and this definitely was also congratulations to the two little boy's that played the <UNK> of norman and paul they were just brilliant children are often left out of the praising list i think because the stars that play them all grown up are such a big profile for the whole film but these children are amazing and should be praised for what they have done don't you think the whole story was so lovely because it was true and was someone's life after all that was shared with us all\n"
     ]
    }
   ],
   "source": [
    "# A dictionary mapping words to an integer index\n",
    "word_index = imdb.get_word_index()\n",
    "\n",
    "# The first indices are reserved\n",
    "word_index = {k:(v+3) for k,v in word_index.items()}\n",
    "word_index[\"<PAD>\"] = 0\n",
    "word_index[\"<START>\"] = 1\n",
    "word_index[\"<UNK>\"] = 2  # unknown\n",
    "word_index[\"<UNUSED>\"] = 3\n",
    "\n",
    "reverse_word_index = dict([(value, key) for (key, value) in word_index.items()])\n",
    "\n",
    "def decode_review(text):\n",
    "    return ' '.join([reverse_word_index.get(i, '?') for i in text])\n",
    "#输出第一条影评\n",
    "print(decode_review(train_data[0]))"
   ]
  },
  {
   "cell_type": "code",
   "execution_count": 36,
   "metadata": {
    "scrolled": true
   },
   "outputs": [
    {
     "name": "stdout",
     "output_type": "stream",
     "text": [
      "256 256\n",
      "[    1    14    22    16    43   530   973  1622  1385    65   458  4468\n",
      "    66  3941     4   173    36   256     5    25   100    43   838   112\n",
      "    50   670     2     9    35   480   284     5   150     4   172   112\n",
      "   167     2   336   385    39     4   172  4536  1111    17   546    38\n",
      "    13   447     4   192    50    16     6   147  2025    19    14    22\n",
      "     4  1920  4613   469     4    22    71    87    12    16    43   530\n",
      "    38    76    15    13  1247     4    22    17   515    17    12    16\n",
      "   626    18 19193     5    62   386    12     8   316     8   106     5\n",
      "     4  2223  5244    16   480    66  3785    33     4   130    12    16\n",
      "    38   619     5    25   124    51    36   135    48    25  1415    33\n",
      "     6    22    12   215    28    77    52     5    14   407    16    82\n",
      " 10311     8     4   107   117  5952    15   256     4     2     7  3766\n",
      "     5   723    36    71    43   530   476    26   400   317    46     7\n",
      "     4 12118  1029    13   104    88     4   381    15   297    98    32\n",
      "  2071    56    26   141     6   194  7486    18     4   226    22    21\n",
      "   134   476    26   480     5   144    30  5535    18    51    36    28\n",
      "   224    92    25   104     4   226    65    16    38  1334    88    12\n",
      "    16   283     5    16  4472   113   103    32    15    16  5345    19\n",
      "   178    32     0     0     0     0     0     0     0     0     0     0\n",
      "     0     0     0     0     0     0     0     0     0     0     0     0\n",
      "     0     0     0     0     0     0     0     0     0     0     0     0\n",
      "     0     0     0     0]\n"
     ]
    }
   ],
   "source": [
    "#2.数据准备\n",
    "\n",
    "#通过填充数组的方式，使每条评论拥有相同的长度\n",
    "train_data = keras.preprocessing.sequence.pad_sequences(train_data,value=word_index[\"<PAD>\"],padding='post',maxlen=256)\n",
    "test_data = keras.preprocessing.sequence.pad_sequences(test_data,value=word_index[\"<PAD>\"],padding='post',maxlen=256)\n",
    "\n",
    "#查看训练集和测试集的评论长度\n",
    "print(len(train_data[0]),len(test_data[0]))\n",
    "\n",
    "#查看第一条影评内容,可以看到该条影评末尾都被填充成0\n",
    "print(train_data[0])\n"
   ]
  },
  {
   "cell_type": "code",
   "execution_count": 42,
   "metadata": {},
   "outputs": [
    {
     "name": "stdout",
     "output_type": "stream",
     "text": [
      "_________________________________________________________________\n",
      "Layer (type)                 Output Shape              Param #   \n",
      "=================================================================\n",
      "embedding_4 (Embedding)      (None, None, 16)          320000    \n",
      "_________________________________________________________________\n",
      "global_average_pooling1d_4 ( (None, 16)                0         \n",
      "_________________________________________________________________\n",
      "dense_8 (Dense)              (None, 16)                272       \n",
      "_________________________________________________________________\n",
      "dense_9 (Dense)              (None, 1)                 17        \n",
      "=================================================================\n",
      "Total params: 320,289\n",
      "Trainable params: 320,289\n",
      "Non-trainable params: 0\n",
      "_________________________________________________________________\n"
     ]
    }
   ],
   "source": [
    "#3.构建一个简单的分类模型\n",
    "# input shape is the vocabulary count used for the movie reviews (20,000 words)\n",
    "vocab_size = 20000\n",
    "\n",
    "model = keras.Sequential()\n",
    "#(1)输入层(Embedding),该层会在词汇表中查找每个字词-索引的向量，模型学习之后会生成维度(batch,sequence,embedding)\n",
    "model.add(keras.layers.Embedding(vocab_size, 16))\n",
    "#(2)GloablAveragePooling1D层,该层会对序列维度求平均值，为每个样本输出一个长度固定的向量\n",
    "model.add(keras.layers.GlobalAveragePooling1D())\n",
    "#(3)Dense层,将上层的输出向量传入到全连接层\n",
    "model.add(keras.layers.Dense(16, activation=tf.nn.relu))\n",
    "#(4)输出层.通过sigmoid函数将结果输出到单个输出节点\n",
    "model.add(keras.layers.Dense(1, activation=tf.nn.sigmoid))\n",
    "\n",
    "model.summary()"
   ]
  },
  {
   "cell_type": "code",
   "execution_count": 43,
   "metadata": {},
   "outputs": [],
   "source": [
    "#配置模型优化器和损失函数\n",
    "model.compile(optimizer=tf.train.AdamOptimizer(),\n",
    "              loss='binary_crossentropy',\n",
    "              metrics=['accuracy'])"
   ]
  },
  {
   "cell_type": "code",
   "execution_count": 44,
   "metadata": {},
   "outputs": [],
   "source": [
    "#创建验证集,用来评估模型效果\n",
    "x_val = train_data[:10000]\n",
    "partial_x_train = train_data[10000:]\n",
    "\n",
    "y_val = train_labels[:10000]\n",
    "partial_y_train = train_labels[10000:]\n"
   ]
  },
  {
   "cell_type": "code",
   "execution_count": 45,
   "metadata": {},
   "outputs": [
    {
     "name": "stdout",
     "output_type": "stream",
     "text": [
      "Train on 15000 samples, validate on 10000 samples\n",
      "Epoch 1/30\n",
      "15000/15000 [==============================] - 2s 153us/sample - loss: 0.6921 - acc: 0.5404 - val_loss: 0.6903 - val_acc: 0.5275\n",
      "Epoch 2/30\n",
      "15000/15000 [==============================] - 2s 131us/sample - loss: 0.6867 - acc: 0.5673 - val_loss: 0.6835 - val_acc: 0.6870\n",
      "Epoch 3/30\n",
      "15000/15000 [==============================] - 2s 136us/sample - loss: 0.6763 - acc: 0.7571 - val_loss: 0.6711 - val_acc: 0.7508\n",
      "Epoch 4/30\n",
      "15000/15000 [==============================] - 2s 133us/sample - loss: 0.6585 - acc: 0.7820 - val_loss: 0.6511 - val_acc: 0.7735\n",
      "Epoch 5/30\n",
      "15000/15000 [==============================] - 2s 124us/sample - loss: 0.6312 - acc: 0.8039 - val_loss: 0.6208 - val_acc: 0.7898\n",
      "Epoch 6/30\n",
      "15000/15000 [==============================] - 2s 137us/sample - loss: 0.5924 - acc: 0.8204 - val_loss: 0.5838 - val_acc: 0.8042\n",
      "Epoch 7/30\n",
      "15000/15000 [==============================] - 2s 132us/sample - loss: 0.5486 - acc: 0.8321 - val_loss: 0.5424 - val_acc: 0.8176\n",
      "Epoch 8/30\n",
      "15000/15000 [==============================] - 2s 134us/sample - loss: 0.4996 - acc: 0.8507 - val_loss: 0.4997 - val_acc: 0.8309\n",
      "Epoch 9/30\n",
      "15000/15000 [==============================] - 2s 130us/sample - loss: 0.4523 - acc: 0.8645 - val_loss: 0.4606 - val_acc: 0.8397\n",
      "Epoch 10/30\n",
      "15000/15000 [==============================] - 1s 85us/sample - loss: 0.4096 - acc: 0.8762 - val_loss: 0.4272 - val_acc: 0.8491\n",
      "Epoch 11/30\n",
      "15000/15000 [==============================] - 1s 82us/sample - loss: 0.3724 - acc: 0.8881 - val_loss: 0.3981 - val_acc: 0.8591\n",
      "Epoch 12/30\n",
      "15000/15000 [==============================] - 1s 82us/sample - loss: 0.3404 - acc: 0.8951 - val_loss: 0.3757 - val_acc: 0.8636\n",
      "Epoch 13/30\n",
      "15000/15000 [==============================] - 1s 69us/sample - loss: 0.3137 - acc: 0.9017 - val_loss: 0.3565 - val_acc: 0.8696\n",
      "Epoch 14/30\n",
      "15000/15000 [==============================] - 1s 64us/sample - loss: 0.2901 - acc: 0.9081 - val_loss: 0.3416 - val_acc: 0.8727\n",
      "Epoch 15/30\n",
      "15000/15000 [==============================] - 2s 126us/sample - loss: 0.2703 - acc: 0.9135 - val_loss: 0.3290 - val_acc: 0.8775\n",
      "Epoch 16/30\n",
      "15000/15000 [==============================] - 2s 131us/sample - loss: 0.2525 - acc: 0.9173 - val_loss: 0.3190 - val_acc: 0.8803\n",
      "Epoch 17/30\n",
      "15000/15000 [==============================] - 2s 115us/sample - loss: 0.2364 - acc: 0.9241 - val_loss: 0.3106 - val_acc: 0.8807\n",
      "Epoch 18/30\n",
      "15000/15000 [==============================] - 1s 66us/sample - loss: 0.2221 - acc: 0.9287 - val_loss: 0.3043 - val_acc: 0.8819\n",
      "Epoch 19/30\n",
      "15000/15000 [==============================] - 1s 63us/sample - loss: 0.2094 - acc: 0.9309 - val_loss: 0.2982 - val_acc: 0.8850\n",
      "Epoch 20/30\n",
      "15000/15000 [==============================] - 1s 63us/sample - loss: 0.1973 - acc: 0.9365 - val_loss: 0.2931 - val_acc: 0.8843\n",
      "Epoch 21/30\n",
      "15000/15000 [==============================] - 1s 63us/sample - loss: 0.1863 - acc: 0.9402 - val_loss: 0.2892 - val_acc: 0.8852\n",
      "Epoch 22/30\n",
      "15000/15000 [==============================] - 1s 62us/sample - loss: 0.1763 - acc: 0.9439 - val_loss: 0.2860 - val_acc: 0.8853\n",
      "Epoch 23/30\n",
      "15000/15000 [==============================] - 1s 62us/sample - loss: 0.1667 - acc: 0.9491 - val_loss: 0.2843 - val_acc: 0.8860\n",
      "Epoch 24/30\n",
      "15000/15000 [==============================] - 1s 63us/sample - loss: 0.1590 - acc: 0.9513 - val_loss: 0.2828 - val_acc: 0.8870\n",
      "Epoch 25/30\n",
      "15000/15000 [==============================] - 1s 62us/sample - loss: 0.1501 - acc: 0.9560 - val_loss: 0.2800 - val_acc: 0.8877\n",
      "Epoch 26/30\n",
      "15000/15000 [==============================] - 1s 62us/sample - loss: 0.1422 - acc: 0.9595 - val_loss: 0.2787 - val_acc: 0.8876\n",
      "Epoch 27/30\n",
      "15000/15000 [==============================] - 1s 65us/sample - loss: 0.1347 - acc: 0.9615 - val_loss: 0.2780 - val_acc: 0.8879\n",
      "Epoch 28/30\n",
      "15000/15000 [==============================] - 1s 62us/sample - loss: 0.1279 - acc: 0.9645 - val_loss: 0.2780 - val_acc: 0.8876\n",
      "Epoch 29/30\n",
      "15000/15000 [==============================] - 1s 66us/sample - loss: 0.1216 - acc: 0.9668 - val_loss: 0.2781 - val_acc: 0.8884\n",
      "Epoch 30/30\n",
      "15000/15000 [==============================] - 1s 63us/sample - loss: 0.1156 - acc: 0.9690 - val_loss: 0.2783 - val_acc: 0.8888\n"
     ]
    }
   ],
   "source": [
    "#4.模型训练\n",
    "#batch_size=1024,epochs=50\n",
    "history = model.fit(partial_x_train,\n",
    "                    partial_y_train,\n",
    "                    epochs=30,\n",
    "                    batch_size=512,\n",
    "                    validation_data=(x_val, y_val),\n",
    "                    verbose=1)"
   ]
  },
  {
   "cell_type": "code",
   "execution_count": 46,
   "metadata": {},
   "outputs": [
    {
     "name": "stdout",
     "output_type": "stream",
     "text": [
      "25000/25000 [==============================] - 1s 30us/sample - loss: 0.3017 - acc: 0.8773\n",
      "[0.3017049396419525, 0.87732]\n"
     ]
    }
   ],
   "source": [
    "#5.评估模型效果\n",
    "results = model.evaluate(test_data, test_labels)\n",
    "print(results)\n"
   ]
  },
  {
   "cell_type": "code",
   "execution_count": 47,
   "metadata": {},
   "outputs": [
    {
     "name": "stdout",
     "output_type": "stream",
     "text": [
      "dict_keys(['loss', 'acc', 'val_loss', 'val_acc'])\n"
     ]
    }
   ],
   "source": [
    "history_dict = history.history\n",
    "print(history_dict.keys())"
   ]
  },
  {
   "cell_type": "code",
   "execution_count": 48,
   "metadata": {},
   "outputs": [
    {
     "data": {
      "image/png": "[encoded data removed]",
      "text/plain": [
       "<Figure size 432x288 with 1 Axes>"
      ]
     },
     "metadata": {},
     "output_type": "display_data"
    }
   ],
   "source": [
    "#绘制训练集和验证集损失图表\n",
    "\n",
    "import matplotlib.pyplot as plt\n",
    "\n",
    "acc = history.history['acc']\n",
    "val_acc = history.history['val_acc']\n",
    "loss = history.history['loss']\n",
    "val_loss = history.history['val_loss']\n",
    "\n",
    "epochs = range(1, len(acc) + 1)\n",
    "\n",
    "# \"bo\" is for \"blue dot\"\n",
    "plt.plot(epochs, loss, 'bo', label='Training loss')\n",
    "# b is for \"solid blue line\"\n",
    "plt.plot(epochs, val_loss, 'b', label='Validation loss')\n",
    "plt.title('Training and validation loss')\n",
    "plt.xlabel('Epochs')\n",
    "plt.ylabel('Loss')\n",
    "plt.legend()\n",
    "\n",
    "plt.show()"
   ]
  },
  {
   "cell_type": "code",
   "execution_count": 49,
   "metadata": {},
   "outputs": [
    {
     "data": {
      "image/png": "[encoded data removed]",
      "text/plain": [
       "<Figure size 432x288 with 1 Axes>"
      ]
     },
     "metadata": {},
     "output_type": "display_data"
    }
   ],
   "source": [
    "#绘制训练集和验证集准确率图表\n",
    "plt.clf()   # clear figure\n",
    "acc_values = history_dict['acc']\n",
    "val_acc_values = history_dict['val_acc']\n",
    "\n",
    "plt.plot(epochs, acc, 'bo', label='Training acc')\n",
    "plt.plot(epochs, val_acc, 'b', label='Validation acc')\n",
    "plt.title('Training and validation accuracy')\n",
    "plt.xlabel('Epochs')\n",
    "plt.ylabel('Accuracy')\n",
    "plt.legend()\n",
    "\n",
    "plt.show()"
   ]
  },
  {
   "cell_type": "code",
   "execution_count": null,
   "metadata": {},
   "outputs": [],
   "source": []
  }
 ],
 "metadata": {
  "kernelspec": {
   "display_name": "Python 3",
   "language": "python",
   "name": "python3"
  },
  "language_info": {
   "codemirror_mode": {
    "name": "ipython",
    "version": 3
   },
   "file_extension": ".py",
   "mimetype": "text/x-python",
   "name": "python",
   "nbconvert_exporter": "python",
   "pygments_lexer": "ipython3",
   "version": "3.6.5"
  }
 },
 "nbformat": 4,
 "nbformat_minor": 2
}
